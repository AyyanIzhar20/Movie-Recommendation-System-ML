{
 "cells": [
  {
   "cell_type": "code",
   "id": "initial_id",
   "metadata": {
    "collapsed": true,
    "ExecuteTime": {
     "end_time": "2025-08-28T14:17:57.360045Z",
     "start_time": "2025-08-28T14:17:57.066542Z"
    }
   },
   "source": [
    "import pandas as pd\n",
    "import numpy as np\n",
    "import matplotlib.pyplot as plt\n",
    "import seaborn as sns\n",
    "import os\n",
    "from sklearn.model_selection import train_test_split\n",
    "from sklearn.metrics.pairwise import cosine_similarity\n",
    "from sklearn.metrics import precision_score\n",
    "from scipy.sparse.linalg import svds"
   ],
   "outputs": [],
   "execution_count": 7
  },
  {
   "metadata": {},
   "cell_type": "markdown",
   "source": "### Loading Data",
   "id": "f848919045754d6f"
  },
  {
   "metadata": {
    "ExecuteTime": {
     "end_time": "2025-08-28T14:18:37.157130Z",
     "start_time": "2025-08-28T14:18:37.151778Z"
    }
   },
   "cell_type": "code",
   "source": "DATA_DIR = \"data/ml-100k/\"",
   "id": "cdf258afbca8d145",
   "outputs": [],
   "execution_count": 8
  },
  {
   "metadata": {
    "ExecuteTime": {
     "end_time": "2025-08-28T14:19:27.651620Z",
     "start_time": "2025-08-28T14:19:27.600899Z"
    }
   },
   "cell_type": "code",
   "source": [
    "ratings = pd.read_csv(\"ml-100k/u.data\",\n",
    "                      sep=\"\\t\",\n",
    "                      names=[\"user_id\",\"movie_id\",\"rating\",\"timestamp\"])\n",
    "\n",
    "print(\"Ratings shape:\", ratings.shape)\n",
    "print(ratings.head())"
   ],
   "id": "780a47299ea89fa9",
   "outputs": [
    {
     "name": "stdout",
     "output_type": "stream",
     "text": [
      "Ratings shape: (100000, 4)\n",
      "   user_id  movie_id  rating  timestamp\n",
      "0      196       242       3  881250949\n",
      "1      186       302       3  891717742\n",
      "2       22       377       1  878887116\n",
      "3      244        51       2  880606923\n",
      "4      166       346       1  886397596\n"
     ]
    }
   ],
   "execution_count": 10
  },
  {
   "metadata": {
    "ExecuteTime": {
     "end_time": "2025-08-28T14:19:41.120714Z",
     "start_time": "2025-08-28T14:19:41.093842Z"
    }
   },
   "cell_type": "code",
   "source": [
    "movies = pd.read_csv(\n",
    "    \"ml-100k/u.item\",\n",
    "    sep=\"|\",\n",
    "    encoding=\"latin-1\",\n",
    "    names=[\"movie_id\", \"title\", \"release_date\", \"video_release_date\", \"IMDb_URL\"] +\n",
    "          [f\"genre_{i}\" for i in range(19)]\n",
    ")\n",
    "\n",
    "print(\"Movies shape:\", movies.shape)\n",
    "print(movies.head())"
   ],
   "id": "5dbcdfa4a1fd0c12",
   "outputs": [
    {
     "name": "stdout",
     "output_type": "stream",
     "text": [
      "Movies shape: (1682, 24)\n",
      "   movie_id              title release_date  video_release_date  \\\n",
      "0         1   Toy Story (1995)  01-Jan-1995                 NaN   \n",
      "1         2   GoldenEye (1995)  01-Jan-1995                 NaN   \n",
      "2         3  Four Rooms (1995)  01-Jan-1995                 NaN   \n",
      "3         4  Get Shorty (1995)  01-Jan-1995                 NaN   \n",
      "4         5     Copycat (1995)  01-Jan-1995                 NaN   \n",
      "\n",
      "                                            IMDb_URL  genre_0  genre_1  \\\n",
      "0  http://us.imdb.com/M/title-exact?Toy%20Story%2...        0        0   \n",
      "1  http://us.imdb.com/M/title-exact?GoldenEye%20(...        0        1   \n",
      "2  http://us.imdb.com/M/title-exact?Four%20Rooms%...        0        0   \n",
      "3  http://us.imdb.com/M/title-exact?Get%20Shorty%...        0        1   \n",
      "4  http://us.imdb.com/M/title-exact?Copycat%20(1995)        0        0   \n",
      "\n",
      "   genre_2  genre_3  genre_4  ...  genre_9  genre_10  genre_11  genre_12  \\\n",
      "0        0        1        1  ...        0         0         0         0   \n",
      "1        1        0        0  ...        0         0         0         0   \n",
      "2        0        0        0  ...        0         0         0         0   \n",
      "3        0        0        0  ...        0         0         0         0   \n",
      "4        0        0        0  ...        0         0         0         0   \n",
      "\n",
      "   genre_13  genre_14  genre_15  genre_16  genre_17  genre_18  \n",
      "0         0         0         0         0         0         0  \n",
      "1         0         0         0         1         0         0  \n",
      "2         0         0         0         1         0         0  \n",
      "3         0         0         0         0         0         0  \n",
      "4         0         0         0         1         0         0  \n",
      "\n",
      "[5 rows x 24 columns]\n"
     ]
    }
   ],
   "execution_count": 11
  },
  {
   "metadata": {},
   "cell_type": "markdown",
   "source": "## Merge Ratings with Movies",
   "id": "39eac6f65d2a17c8"
  },
  {
   "metadata": {
    "ExecuteTime": {
     "end_time": "2025-08-28T14:19:54.012093Z",
     "start_time": "2025-08-28T14:19:53.988676Z"
    }
   },
   "cell_type": "code",
   "source": [
    "df = pd.merge(ratings, movies[[\"movie_id\", \"title\"]], on=\"movie_id\")\n",
    "print(\"Merged data shape:\", df.shape)\n",
    "print(df.head())"
   ],
   "id": "79d055366330784e",
   "outputs": [
    {
     "name": "stdout",
     "output_type": "stream",
     "text": [
      "Merged data shape: (100000, 5)\n",
      "   user_id  movie_id  rating  timestamp                       title\n",
      "0      196       242       3  881250949                Kolya (1996)\n",
      "1      186       302       3  891717742    L.A. Confidential (1997)\n",
      "2       22       377       1  878887116         Heavyweights (1994)\n",
      "3      244        51       2  880606923  Legends of the Fall (1994)\n",
      "4      166       346       1  886397596         Jackie Brown (1997)\n"
     ]
    }
   ],
   "execution_count": 12
  },
  {
   "metadata": {},
   "cell_type": "markdown",
   "source": "## Exploratory Data Analysis",
   "id": "58c5877b18d932e1"
  },
  {
   "metadata": {
    "ExecuteTime": {
     "end_time": "2025-08-28T14:20:07.294150Z",
     "start_time": "2025-08-28T14:20:06.570478Z"
    }
   },
   "cell_type": "code",
   "source": [
    "plt.figure(figsize=(6,4))\n",
    "sns.countplot(x=\"rating\", hue=\"rating\", data=df, palette=\"viridis\", legend=False)\n",
    "plt.title(\"Ratings Distribution\")\n",
    "plt.xlabel(\"Rating\")\n",
    "plt.ylabel(\"Count\")\n",
    "plt.show()"
   ],
   "id": "3fc3982b983416a2",
   "outputs": [
    {
     "data": {
      "text/plain": [
       "<Figure size 600x400 with 1 Axes>"
      ],
      "image/png": "[encoded data removed]"
     },
     "metadata": {},
     "output_type": "display_data"
    }
   ],
   "execution_count": 13
  },
  {
   "metadata": {},
   "cell_type": "markdown",
   "source": "People mostly give 4 star ratings\n",
   "id": "d966c2d051d4b983"
  },
  {
   "metadata": {
    "ExecuteTime": {
     "end_time": "2025-08-28T14:20:22.922372Z",
     "start_time": "2025-08-28T14:20:22.659219Z"
    }
   },
   "cell_type": "code",
   "source": [
    "avg_ratings_per_user = df.groupby(\"user_id\")[\"rating\"].mean()\n",
    "\n",
    "plt.figure(figsize=(6,4))\n",
    "sns.histplot(avg_ratings_per_user, bins=30, kde=True, color=\"orange\")\n",
    "plt.title(\"Distribution of Average Ratings per User\")\n",
    "plt.xlabel(\"Average Rating\")\n",
    "plt.ylabel(\"Number of Users\")\n",
    "plt.show()"
   ],
   "id": "5bbacdae107c04b7",
   "outputs": [
    {
     "data": {
      "text/plain": [
       "<Figure size 600x400 with 1 Axes>"
      ],
      "image/png": "[encoded data removed]"
     },
     "metadata": {},
     "output_type": "display_data"
    }
   ],
   "execution_count": 14
  },
  {
   "metadata": {
    "ExecuteTime": {
     "end_time": "2025-08-28T14:20:38.805511Z",
     "start_time": "2025-08-28T14:20:38.779128Z"
    }
   },
   "cell_type": "code",
   "source": [
    "min_ratings = 50\n",
    "\n",
    "# Group by movie and calculate mean rating + count of ratings\n",
    "movie_stats = df.groupby(\"title\")[\"rating\"].agg([\"mean\", \"count\"])\n",
    "\n",
    "# Filter only movies with enough ratings\n",
    "popular_movies = movie_stats.query(\"count >= @min_ratings\")\n",
    "\n",
    "# Sort by average rating\n",
    "top_rated = popular_movies.sort_values(\"mean\", ascending=False).head(15)\n"
   ],
   "id": "89c087439cc2fce1",
   "outputs": [],
   "execution_count": 15
  },
  {
   "metadata": {
    "ExecuteTime": {
     "end_time": "2025-08-28T14:20:48.385930Z",
     "start_time": "2025-08-28T14:20:47.731747Z"
    }
   },
   "cell_type": "code",
   "source": [
    "plt.figure(figsize=(8,6))\n",
    "sns.barplot(\n",
    "    x=top_rated[\"mean\"],\n",
    "    y=top_rated.index,\n",
    "    hue=top_rated.index,      # assign palette to the y variable\n",
    "    palette=\"viridis\",\n",
    "    legend=False\n",
    ")\n",
    "plt.title(f\"Top Rated Movies (at least {min_ratings} ratings)\")\n",
    "plt.xlabel(\"Average Rating\")\n",
    "plt.ylabel(\"Movie Title\")\n",
    "plt.show()"
   ],
   "id": "1e1c9a7ca7d16586",
   "outputs": [
    {
     "data": {
      "text/plain": [
       "<Figure size 800x600 with 1 Axes>"
      ],
      "image/png": "[encoded data removed]"
     },
     "metadata": {},
     "output_type": "display_data"
    }
   ],
   "execution_count": 16
  },
  {
   "metadata": {},
   "cell_type": "markdown",
   "source": "We filtered by movies with a minimum number of ratings ≥50, so we got better insights and avoided the movies which had total ratings below 50",
   "id": "9be730cbf7422c30"
  },
  {
   "metadata": {},
   "cell_type": "markdown",
   "source": "## Data Cleaning",
   "id": "e4175140a2f029aa"
  },
  {
   "metadata": {
    "ExecuteTime": {
     "end_time": "2025-08-28T14:21:01.737294Z",
     "start_time": "2025-08-28T14:21:01.725408Z"
    }
   },
   "cell_type": "code",
   "source": "print(\"Missing values:\\n\", df.isnull().sum())",
   "id": "d83c734c6ca1db4f",
   "outputs": [
    {
     "name": "stdout",
     "output_type": "stream",
     "text": [
      "Missing values:\n",
      " user_id      0\n",
      "movie_id     0\n",
      "rating       0\n",
      "timestamp    0\n",
      "title        0\n",
      "dtype: int64\n"
     ]
    }
   ],
   "execution_count": 17
  },
  {
   "metadata": {},
   "cell_type": "markdown",
   "source": "No missing values\n",
   "id": "db2f503074361be4"
  },
  {
   "metadata": {
    "ExecuteTime": {
     "end_time": "2025-08-28T14:21:10.288999Z",
     "start_time": "2025-08-28T14:21:10.248916Z"
    }
   },
   "cell_type": "code",
   "source": [
    "before = df.shape[0]\n",
    "df = df.drop_duplicates()\n",
    "after = df.shape[0]\n",
    "print(f\"Dropped {before - after} duplicates.\")"
   ],
   "id": "330017488efd5fb4",
   "outputs": [
    {
     "name": "stdout",
     "output_type": "stream",
     "text": [
      "Dropped 0 duplicates.\n"
     ]
    }
   ],
   "execution_count": 18
  },
  {
   "metadata": {
    "ExecuteTime": {
     "end_time": "2025-08-28T14:21:16.973575Z",
     "start_time": "2025-08-28T14:21:16.940219Z"
    }
   },
   "cell_type": "code",
   "source": "print(df.describe())",
   "id": "c0651b3c8e2a9799",
   "outputs": [
    {
     "name": "stdout",
     "output_type": "stream",
     "text": [
      "            user_id       movie_id         rating     timestamp\n",
      "count  100000.00000  100000.000000  100000.000000  1.000000e+05\n",
      "mean      462.48475     425.530130       3.529860  8.835289e+08\n",
      "std       266.61442     330.798356       1.125674  5.343856e+06\n",
      "min         1.00000       1.000000       1.000000  8.747247e+08\n",
      "25%       254.00000     175.000000       3.000000  8.794487e+08\n",
      "50%       447.00000     322.000000       4.000000  8.828269e+08\n",
      "75%       682.00000     631.000000       4.000000  8.882600e+08\n",
      "max       943.00000    1682.000000       5.000000  8.932866e+08\n"
     ]
    }
   ],
   "execution_count": 19
  },
  {
   "metadata": {},
   "cell_type": "markdown",
   "source": "### Normalize ratings",
   "id": "21c3075d4682020f"
  },
  {
   "metadata": {},
   "cell_type": "markdown",
   "source": "center per user so we remove bias like “some users always give 5”",
   "id": "4a01ed66590cce6f"
  },
  {
   "metadata": {
    "ExecuteTime": {
     "end_time": "2025-08-28T14:21:24.327398Z",
     "start_time": "2025-08-28T14:21:24.045564Z"
    }
   },
   "cell_type": "code",
   "source": [
    "# Center ratings by each user's mean\n",
    "ratings[\"rating_norm\"] = ratings.groupby(\"user_id\")[\"rating\"].transform(lambda x: x - x.mean())\n",
    "\n",
    "print(\"Normalized ratings sample:\")\n",
    "print(ratings.head())"
   ],
   "id": "a976247e410ef7ba",
   "outputs": [
    {
     "name": "stdout",
     "output_type": "stream",
     "text": [
      "Normalized ratings sample:\n",
      "   user_id  movie_id  rating  timestamp  rating_norm\n",
      "0      196       242       3  881250949    -0.615385\n",
      "1      186       302       3  891717742    -0.413043\n",
      "2       22       377       1  878887116    -2.351562\n",
      "3      244        51       2  880606923    -1.651261\n",
      "4      166       346       1  886397596    -2.550000\n"
     ]
    }
   ],
   "execution_count": 20
  },
  {
   "metadata": {},
   "cell_type": "markdown",
   "source": "## Train/Test Split",
   "id": "c24e940dfc6edda9"
  },
  {
   "metadata": {
    "ExecuteTime": {
     "end_time": "2025-08-28T14:21:33.565672Z",
     "start_time": "2025-08-28T14:21:33.485609Z"
    }
   },
   "cell_type": "code",
   "source": [
    "train, test = train_test_split(\n",
    "        ratings,\n",
    "        test_size=0.2,\n",
    "        stratify=ratings[\"user_id\"],\n",
    "        random_state=42\n",
    "    )"
   ],
   "id": "e044b88a0fec1179",
   "outputs": [],
   "execution_count": 21
  },
  {
   "metadata": {
    "ExecuteTime": {
     "end_time": "2025-08-28T14:21:39.151207Z",
     "start_time": "2025-08-28T14:21:39.146652Z"
    }
   },
   "cell_type": "code",
   "source": [
    "print(\"Train shape:\", train.shape)\n",
    "print(\"Test shape:\", test.shape)"
   ],
   "id": "ab2c8a23f47793d1",
   "outputs": [
    {
     "name": "stdout",
     "output_type": "stream",
     "text": [
      "Train shape: (80000, 5)\n",
      "Test shape: (20000, 5)\n"
     ]
    }
   ],
   "execution_count": 22
  },
  {
   "metadata": {},
   "cell_type": "markdown",
   "source": "### User-Item Matrix",
   "id": "43b24b8900e8bd67"
  },
  {
   "metadata": {
    "ExecuteTime": {
     "end_time": "2025-08-28T14:21:46.477985Z",
     "start_time": "2025-08-28T14:21:46.473157Z"
    }
   },
   "cell_type": "code",
   "source": [
    "def build_user_item_matrix(df):\n",
    "    return df.pivot_table(index=\"user_id\", columns=\"movie_id\", values=\"rating\")"
   ],
   "id": "fe005626435d9e66",
   "outputs": [],
   "execution_count": 23
  },
  {
   "metadata": {
    "ExecuteTime": {
     "end_time": "2025-08-28T14:21:51.816115Z",
     "start_time": "2025-08-28T14:21:51.702103Z"
    }
   },
   "cell_type": "code",
   "source": [
    "train_matrix = build_user_item_matrix(train)\n",
    "test_matrix = build_user_item_matrix(test)"
   ],
   "id": "74eac956e7f60383",
   "outputs": [],
   "execution_count": 24
  },
  {
   "metadata": {
    "ExecuteTime": {
     "end_time": "2025-08-28T14:21:56.649487Z",
     "start_time": "2025-08-28T14:21:56.643997Z"
    }
   },
   "cell_type": "code",
   "source": [
    "print(\"Train Matrix shape:\", train_matrix.shape)\n",
    "print(\"Test Matrix shape:\", test_matrix.shape)"
   ],
   "id": "9c08cac4564f3b25",
   "outputs": [
    {
     "name": "stdout",
     "output_type": "stream",
     "text": [
      "Train Matrix shape: (943, 1656)\n",
      "Test Matrix shape: (943, 1408)\n"
     ]
    }
   ],
   "execution_count": 25
  },
  {
   "metadata": {
    "ExecuteTime": {
     "end_time": "2025-08-28T14:22:02.872283Z",
     "start_time": "2025-08-28T14:22:02.837348Z"
    }
   },
   "cell_type": "code",
   "source": [
    "def sparsity(matrix):\n",
    "    return 1.0 - (np.count_nonzero(matrix) / float(matrix.size))\n",
    "\n",
    "print(f\"Train sparsity: {sparsity(train_matrix)*100:.2f}%\")\n",
    "print(f\"Test sparsity: {sparsity(test_matrix)*100:.2f}%\")"
   ],
   "id": "7dcd58af0ac44190",
   "outputs": [
    {
     "name": "stdout",
     "output_type": "stream",
     "text": [
      "Train sparsity: 0.00%\n",
      "Test sparsity: 0.00%\n"
     ]
    }
   ],
   "execution_count": 26
  },
  {
   "metadata": {},
   "cell_type": "markdown",
   "source": "### User-User Similarity",
   "id": "d9351ecf7456c8d1"
  },
  {
   "metadata": {
    "ExecuteTime": {
     "end_time": "2025-08-28T14:22:13.521483Z",
     "start_time": "2025-08-28T14:22:13.503764Z"
    }
   },
   "cell_type": "code",
   "source": "train_filled = train_matrix.fillna(0)",
   "id": "39c5763811c45c0e",
   "outputs": [],
   "execution_count": 27
  },
  {
   "metadata": {
    "ExecuteTime": {
     "end_time": "2025-08-28T14:22:23.500018Z",
     "start_time": "2025-08-28T14:22:23.445165Z"
    }
   },
   "cell_type": "code",
   "source": [
    "# Compute cosine similarity between users\n",
    "user_similarity = cosine_similarity(train_filled)\n",
    "user_similarity_df = pd.DataFrame(user_similarity,\n",
    "                                  index=train_filled.index,\n",
    "                                  columns=train_filled.index)\n",
    "\n",
    "print(\"User similarity matrix shape:\", user_similarity_df.shape)"
   ],
   "id": "f4cb41d93c639367",
   "outputs": [
    {
     "name": "stdout",
     "output_type": "stream",
     "text": [
      "User similarity matrix shape: (943, 943)\n"
     ]
    }
   ],
   "execution_count": 28
  },
  {
   "metadata": {},
   "cell_type": "markdown",
   "source": "### Recommend Top-rated unseen movies for a given user",
   "id": "737a6e6600fbac48"
  },
  {
   "metadata": {
    "ExecuteTime": {
     "end_time": "2025-08-28T14:22:34.458271Z",
     "start_time": "2025-08-28T14:22:34.451075Z"
    }
   },
   "cell_type": "code",
   "source": [
    "def movies_recommend(user_id, top_n=10):\n",
    "    # Get similarity scores for this user\n",
    "    sim_scores = user_similarity_df.loc[user_id]\n",
    "\n",
    "    # Weighted ratings from similar users\n",
    "    # dot(similarity, ratings) / sum(similarity)\n",
    "    sim_users = train_filled.T.dot(sim_scores) / sim_scores.sum()\n",
    "\n",
    "    # Already seen movies by this user\n",
    "    seen_movies = train_matrix.loc[user_id].dropna().index\n",
    "\n",
    "    # Exclude seen movies\n",
    "    recommendations = sim_users.drop(seen_movies)\n",
    "\n",
    "    # Top-N recommendations\n",
    "    return recommendations.sort_values(ascending=False).head(top_n)"
   ],
   "id": "e9051f1fe357c7ec",
   "outputs": [],
   "execution_count": 29
  },
  {
   "metadata": {
    "ExecuteTime": {
     "end_time": "2025-08-28T14:22:41.654516Z",
     "start_time": "2025-08-28T14:22:41.643934Z"
    }
   },
   "cell_type": "code",
   "source": [
    "print(\"Recommendations for User 50:\")\n",
    "print(movies_recommend(50, top_n=5))"
   ],
   "id": "8de9711315aa0ee1",
   "outputs": [
    {
     "name": "stdout",
     "output_type": "stream",
     "text": [
      "Recommendations for User 50:\n",
      "movie_id\n",
      "50     2.261966\n",
      "127    1.740308\n",
      "258    1.713465\n",
      "181    1.677146\n",
      "288    1.658508\n",
      "dtype: float64\n"
     ]
    }
   ],
   "execution_count": 30
  },
  {
   "metadata": {},
   "cell_type": "markdown",
   "source": "### Evaluate using Precision at K",
   "id": "231318ade7e64865"
  },
  {
   "metadata": {
    "ExecuteTime": {
     "end_time": "2025-08-28T14:22:48.657611Z",
     "start_time": "2025-08-28T14:22:48.651675Z"
    }
   },
   "cell_type": "code",
   "source": [
    "def precision_at_k(test_matrix, k=10):\n",
    "    precisions = []\n",
    "\n",
    "    for user in test_matrix.index:\n",
    "        # True movies the user rated in test set\n",
    "        true_items = test_matrix.loc[user].dropna().index if user in test_matrix.index else []\n",
    "        if len(true_items) == 0:\n",
    "            continue  # skip users with no test ratings\n",
    "\n",
    "        # Predicted top-k recommendations\n",
    "        recs = movies_recommend(user, top_n=k).index\n",
    "\n",
    "        # Hits = intersection of recommended and true items\n",
    "        hits = len(set(recs).intersection(set(true_items)))\n",
    "\n",
    "        precisions.append(hits / k)\n",
    "\n",
    "    return np.mean(precisions)"
   ],
   "id": "91d85a33430ff8af",
   "outputs": [],
   "execution_count": 31
  },
  {
   "metadata": {},
   "cell_type": "markdown",
   "source": "#### Evaluate Precision at 5 and Precision at 10",
   "id": "4b33db569862c089"
  },
  {
   "metadata": {
    "ExecuteTime": {
     "end_time": "2025-08-28T14:23:00.886113Z",
     "start_time": "2025-08-28T14:22:55.263154Z"
    }
   },
   "cell_type": "code",
   "source": [
    "prec_at_5 = precision_at_k(test_matrix, k=5)\n",
    "prec_at_10 = precision_at_k(test_matrix, k=10)"
   ],
   "id": "9acc0fc7b565e60b",
   "outputs": [],
   "execution_count": 32
  },
  {
   "metadata": {
    "ExecuteTime": {
     "end_time": "2025-08-28T14:23:08.302570Z",
     "start_time": "2025-08-28T14:23:08.296624Z"
    }
   },
   "cell_type": "code",
   "source": [
    "print(f\"Precision at 5: {prec_at_5:.4f}\")\n",
    "print(f\"Precision at 10: {prec_at_10:.4f}\")"
   ],
   "id": "39a162c7d373a4c",
   "outputs": [
    {
     "name": "stdout",
     "output_type": "stream",
     "text": [
      "Precision at 5: 0.3169\n",
      "Precision at 10: 0.2604\n"
     ]
    }
   ],
   "execution_count": 33
  },
  {
   "metadata": {},
   "cell_type": "markdown",
   "source": [
    "Precision drops as k increases, this means:\n",
    "- With more recommendations, you’re more likely to include irrelevant items.\n"
   ],
   "id": "801697743913e965"
  },
  {
   "metadata": {},
   "cell_type": "markdown",
   "source": "## Item-Based Collaborative Filtering",
   "id": "d9c2e422d4aa52a5"
  },
  {
   "metadata": {
    "ExecuteTime": {
     "end_time": "2025-08-28T14:23:16.994252Z",
     "start_time": "2025-08-28T14:23:16.989757Z"
    }
   },
   "cell_type": "code",
   "source": [
    "# Transpose to get item-user matrix\n",
    "item_filled = train_filled.T"
   ],
   "id": "a1e5107956336232",
   "outputs": [],
   "execution_count": 34
  },
  {
   "metadata": {
    "ExecuteTime": {
     "end_time": "2025-08-28T14:23:21.757616Z",
     "start_time": "2025-08-28T14:23:21.702208Z"
    }
   },
   "cell_type": "code",
   "source": [
    "# item-item cosine similarity\n",
    "item_similarity = cosine_similarity(item_filled)\n",
    "item_similarity_df = pd.DataFrame(item_similarity,\n",
    "                                  index=item_filled.index,\n",
    "                                  columns=item_filled.index)"
   ],
   "id": "f6febcfceddc97f3",
   "outputs": [],
   "execution_count": 35
  },
  {
   "metadata": {
    "ExecuteTime": {
     "end_time": "2025-08-28T14:23:27.360176Z",
     "start_time": "2025-08-28T14:23:27.354684Z"
    }
   },
   "cell_type": "code",
   "source": [
    "def movies_recommend_item_based(user_id, top_n=10):\n",
    "    # Movies the user has rated\n",
    "    user_ratings = train_matrix.loc[user_id].dropna()\n",
    "    # Weighted sum of similarities * ratings\n",
    "    scores = pd.Series(dtype=float)\n",
    "\n",
    "    for movie, rating in user_ratings.items():\n",
    "        # Similar movies\n",
    "        sim_scores = item_similarity_df[movie] * rating\n",
    "        scores = scores.add(sim_scores, fill_value=0)\n",
    "\n",
    "    # Remove already seen movies\n",
    "    scores = scores.drop(user_ratings.index, errors='ignore')\n",
    "\n",
    "    return scores.sort_values(ascending=False).head(top_n)"
   ],
   "id": "af55736c71e372bd",
   "outputs": [],
   "execution_count": 36
  },
  {
   "metadata": {
    "ExecuteTime": {
     "end_time": "2025-08-28T14:23:35.510447Z",
     "start_time": "2025-08-28T14:23:35.492485Z"
    }
   },
   "cell_type": "code",
   "source": [
    "print(\"Item-based Recommendations for User 50:\")\n",
    "print(movies_recommend_item_based(50, top_n=5))"
   ],
   "id": "c9b9d439c5e3a700",
   "outputs": [
    {
     "name": "stdout",
     "output_type": "stream",
     "text": [
      "Item-based Recommendations for User 50:\n",
      "movie_id\n",
      "475    18.729415\n",
      "50     17.442754\n",
      "7      17.228101\n",
      "127    17.068045\n",
      "237    16.965784\n",
      "dtype: float64\n"
     ]
    }
   ],
   "execution_count": 37
  },
  {
   "metadata": {},
   "cell_type": "markdown",
   "source": "## Matrix Factorization with SVD",
   "id": "e6dfd0705ccf9559"
  },
  {
   "metadata": {},
   "cell_type": "markdown",
   "source": "#### Create user-item rating matrix",
   "id": "353b6edf43c6892c"
  },
  {
   "metadata": {
    "ExecuteTime": {
     "end_time": "2025-08-28T14:23:45.346929Z",
     "start_time": "2025-08-28T14:23:45.335297Z"
    }
   },
   "cell_type": "code",
   "source": [
    "R = train_matrix.fillna(0).values\n",
    "user_ids = train_matrix.index\n",
    "movie_ids = train_matrix.columns"
   ],
   "id": "49c013cfdf00cd3",
   "outputs": [],
   "execution_count": 38
  },
  {
   "metadata": {},
   "cell_type": "markdown",
   "source": "#### Perform SVD",
   "id": "a5fc58f458bdf143"
  },
  {
   "metadata": {
    "ExecuteTime": {
     "end_time": "2025-08-28T14:23:54.533347Z",
     "start_time": "2025-08-28T14:23:54.196587Z"
    }
   },
   "cell_type": "code",
   "source": [
    "U, sigma, Vt = svds(R, k=50)  # k = latent factors\n",
    "sigma = np.diag(sigma)"
   ],
   "id": "d39d083ba35f1868",
   "outputs": [],
   "execution_count": 39
  },
  {
   "metadata": {},
   "cell_type": "markdown",
   "source": "#### Predicted Ratings",
   "id": "9c353f26149c90b6"
  },
  {
   "metadata": {
    "ExecuteTime": {
     "end_time": "2025-08-28T14:24:07.798068Z",
     "start_time": "2025-08-28T14:24:07.783597Z"
    }
   },
   "cell_type": "code",
   "source": [
    "pred_ratings = np.dot(np.dot(U, sigma), Vt)\n",
    "pred_df = pd.DataFrame(pred_ratings, index=user_ids, columns=movie_ids)"
   ],
   "id": "2d242fb630cfa71c",
   "outputs": [],
   "execution_count": 40
  },
  {
   "metadata": {},
   "cell_type": "markdown",
   "source": "### Recommend Movies (SVD based)",
   "id": "61701925feb5ac86"
  },
  {
   "metadata": {
    "ExecuteTime": {
     "end_time": "2025-08-28T14:24:15.705447Z",
     "start_time": "2025-08-28T14:24:15.698465Z"
    }
   },
   "cell_type": "code",
   "source": [
    "def movies_recommend_svd(user_id, top_n=10):\n",
    "    # Predicted scores for user\n",
    "    user_preds = pred_df.loc[user_id]\n",
    "\n",
    "    # Remove already seen\n",
    "    seen_movies = train_matrix.loc[user_id].dropna().index\n",
    "    user_preds = user_preds.drop(seen_movies, errors='ignore')\n",
    "\n",
    "    return user_preds.sort_values(ascending=False).head(top_n)"
   ],
   "id": "503825ff89cd3aca",
   "outputs": [],
   "execution_count": 41
  },
  {
   "metadata": {
    "ExecuteTime": {
     "end_time": "2025-08-28T14:24:22.684567Z",
     "start_time": "2025-08-28T14:24:22.676637Z"
    }
   },
   "cell_type": "code",
   "source": [
    "print(\"SVD-based Recommendations for User 50:\")\n",
    "print(movies_recommend_svd(50, top_n=5))"
   ],
   "id": "cda81d9e38fc7682",
   "outputs": [
    {
     "name": "stdout",
     "output_type": "stream",
     "text": [
      "SVD-based Recommendations for User 50:\n",
      "movie_id\n",
      "475    1.338152\n",
      "124    0.953972\n",
      "150    0.816632\n",
      "129    0.798402\n",
      "14     0.728634\n",
      "Name: 50, dtype: float64\n"
     ]
    }
   ],
   "execution_count": 42
  },
  {
   "metadata": {},
   "cell_type": "markdown",
   "source": "### Evaluate Precision at K for Item-based & SVD",
   "id": "a893f19515a20215"
  },
  {
   "metadata": {
    "ExecuteTime": {
     "end_time": "2025-08-28T14:24:33.829327Z",
     "start_time": "2025-08-28T14:24:33.824071Z"
    }
   },
   "cell_type": "code",
   "source": [
    "def precision_at_k_model(recommend_func, test_matrix, k=10):\n",
    "    precisions = []\n",
    "    for user in test_matrix.index:\n",
    "        true_items = test_matrix.loc[user].dropna().index if user in test_matrix.index else []\n",
    "        if len(true_items) == 0:\n",
    "            continue\n",
    "\n",
    "        recs = recommend_func(user, top_n=k).index\n",
    "        hits = len(set(recs).intersection(set(true_items)))\n",
    "        precisions.append(hits / k)\n",
    "    return np.mean(precisions)"
   ],
   "id": "70662a5696bb18dd",
   "outputs": [],
   "execution_count": 43
  },
  {
   "metadata": {
    "ExecuteTime": {
     "end_time": "2025-08-28T14:25:18.970482Z",
     "start_time": "2025-08-28T14:24:41.948132Z"
    }
   },
   "cell_type": "code",
   "source": [
    "# Item-based evaluation\n",
    "prec_item_5 = precision_at_k_model(movies_recommend_item_based, test_matrix, k=5)\n",
    "prec_item_10 = precision_at_k_model(movies_recommend_item_based, test_matrix, k=10)"
   ],
   "id": "ac812b4c3b3cc34d",
   "outputs": [],
   "execution_count": 44
  },
  {
   "metadata": {
    "ExecuteTime": {
     "end_time": "2025-08-28T14:25:40.035956Z",
     "start_time": "2025-08-28T14:25:35.927025Z"
    }
   },
   "cell_type": "code",
   "source": [
    "# SVD evaluation\n",
    "prec_svd_5 = precision_at_k_model(movies_recommend_svd, test_matrix, k=5)\n",
    "prec_svd_10 = precision_at_k_model(movies_recommend_svd, test_matrix, k=10)"
   ],
   "id": "4d7f3c517160475c",
   "outputs": [],
   "execution_count": 45
  },
  {
   "metadata": {
    "ExecuteTime": {
     "end_time": "2025-08-28T14:25:46.141196Z",
     "start_time": "2025-08-28T14:25:46.135212Z"
    }
   },
   "cell_type": "code",
   "source": [
    "print(f\"Item-based Precision at 5: {prec_item_5:.4f}, Precision at 10: {prec_item_10:.4f}\")\n",
    "print(f\"SVD Precision at 5: {prec_svd_5:.4f}, Precision at 10: {prec_svd_10:.4f}\")"
   ],
   "id": "7adacc5b6e0697ae",
   "outputs": [
    {
     "name": "stdout",
     "output_type": "stream",
     "text": [
      "Item-based Precision at 5: 0.3601, Precision at 10: 0.3008\n",
      "SVD Precision at 5: 0.3684, Precision at 10: 0.3077\n"
     ]
    }
   ],
   "execution_count": 46
  },
  {
   "metadata": {},
   "cell_type": "markdown",
   "source": "## Model Comparison (Precision at K)",
   "id": "4e637c49f0d09fbf"
  },
  {
   "metadata": {},
   "cell_type": "markdown",
   "source": "#### Bar chart comparing User-based, Item-based, and SVD performance.",
   "id": "94dfbdaf2f7fecc3"
  },
  {
   "metadata": {
    "ExecuteTime": {
     "end_time": "2025-08-28T14:25:57.515845Z",
     "start_time": "2025-08-28T14:25:57.294685Z"
    }
   },
   "cell_type": "code",
   "source": [
    "models = [\"User-based\", \"Item-based\", \"SVD\"]\n",
    "prec_at5 = [prec_at_5, prec_item_5, prec_svd_5]\n",
    "prec_at10 = [prec_at_10, prec_item_10, prec_svd_10]\n",
    "\n",
    "x = np.arange(len(models))\n",
    "width = 0.35\n",
    "\n",
    "plt.figure(figsize=(7,5))\n",
    "plt.bar(x - width/2, prec_at5, width, label=\"Precision@5\")\n",
    "plt.bar(x + width/2, prec_at10, width, label=\"Precision@10\")\n",
    "\n",
    "plt.xticks(x, models)\n",
    "plt.ylabel(\"Precision\")\n",
    "plt.title(\"Model Comparison by Precision@K\")\n",
    "plt.legend()\n",
    "plt.show()"
   ],
   "id": "cb5d54a9f913b2ef",
   "outputs": [
    {
     "data": {
      "text/plain": [
       "<Figure size 700x500 with 1 Axes>"
      ],
      "image/png": "[encoded data removed]"
     },
     "metadata": {},
     "output_type": "display_data"
    }
   ],
   "execution_count": 47
  },
  {
   "metadata": {},
   "cell_type": "markdown",
   "source": [
    "### General Takeaways\n",
    "\n",
    "- **Ranking quality decreases as K increases**: Precision naturally drops when recommending more items (because more “irrelevant” movies slip in).\n",
    "\n",
    "- **SVD > Item-based > User-based**: Confirms that in practice, matrix factorization (SVD) tends to outperform pure CF methods.\n",
    "\n",
    "- Item-based CF is stronger than User-based CF here, which makes sense since items (movies) are usually rated by many users, but users themselves can be sparse."
   ],
   "id": "acfb119d517467ee"
  },
  {
   "metadata": {},
   "cell_type": "markdown",
   "source": "## Saving Model for Deployment",
   "id": "9bc857800b058fe8"
  },
  {
   "metadata": {
    "ExecuteTime": {
     "end_time": "2025-08-28T14:27:27.786528Z",
     "start_time": "2025-08-28T14:27:27.782067Z"
    }
   },
   "cell_type": "code",
   "source": "print(ratings.columns)\n",
   "id": "5ff87f65aad0b97d",
   "outputs": [
    {
     "name": "stdout",
     "output_type": "stream",
     "text": [
      "Index(['user_id', 'movie_id', 'rating', 'timestamp', 'rating_norm'], dtype='object')\n"
     ]
    }
   ],
   "execution_count": 49
  },
  {
   "metadata": {
    "ExecuteTime": {
     "end_time": "2025-08-28T14:28:44.719479Z",
     "start_time": "2025-08-28T14:28:42.382795Z"
    }
   },
   "cell_type": "code",
   "source": [
    "from surprise import SVD\n",
    "from surprise import Dataset, Reader\n",
    "from surprise.model_selection import train_test_split\n",
    "\n",
    "# Assuming ratings DataFrame is already cleaned and normalized\n",
    "reader = Reader(rating_scale=(0.5, 5.0))\n",
    "data = Dataset.load_from_df(ratings[['user_id', 'movie_id', 'rating']], reader)\n",
    "\n",
    "trainset, testset = train_test_split(data, test_size=0.2, random_state=42)\n",
    "\n",
    "# Train SVD model\n",
    "svd = SVD()\n",
    "svd.fit(trainset)"
   ],
   "id": "7067ed598d645263",
   "outputs": [
    {
     "data": {
      "text/plain": [
       "<surprise.prediction_algorithms.matrix_factorization.SVD at 0x28980f8f290>"
      ]
     },
     "execution_count": 50,
     "metadata": {},
     "output_type": "execute_result"
    }
   ],
   "execution_count": 50
  },
  {
   "metadata": {
    "ExecuteTime": {
     "end_time": "2025-08-28T14:29:35.858102Z",
     "start_time": "2025-08-28T14:29:31.548811Z"
    }
   },
   "cell_type": "code",
   "source": [
    "import joblib, os\n",
    "\n",
    "os.makedirs(\"models\", exist_ok=True)  # create folder if it doesn't exist\n",
    "\n",
    "joblib.dump(svd, \"models/svd_model.pkl\")"
   ],
   "id": "dee5c7a03d2b9c29",
   "outputs": [
    {
     "data": {
      "text/plain": [
       "['models/svd_model.pkl']"
      ]
     },
     "execution_count": 51,
     "metadata": {},
     "output_type": "execute_result"
    }
   ],
   "execution_count": 51
  },
  {
   "metadata": {
    "ExecuteTime": {
     "end_time": "2025-08-28T14:30:01.709201Z",
     "start_time": "2025-08-28T14:30:01.684767Z"
    }
   },
   "cell_type": "code",
   "source": "joblib.dump(item_similarity, \"models/item_similarity.pkl\")\n",
   "id": "535df67b47d6793f",
   "outputs": [
    {
     "data": {
      "text/plain": [
       "['models/item_similarity.pkl']"
      ]
     },
     "execution_count": 52,
     "metadata": {},
     "output_type": "execute_result"
    }
   ],
   "execution_count": 52
  },
  {
   "metadata": {},
   "cell_type": "code",
   "outputs": [],
   "execution_count": null,
   "source": "",
   "id": "17a92631cb13deb2"
  }
 ],
 "metadata": {
  "kernelspec": {
   "display_name": "Python 3",
   "language": "python",
   "name": "python3"
  },
  "language_info": {
   "codemirror_mode": {
    "name": "ipython",
    "version": 2
   },
   "file_extension": ".py",
   "mimetype": "text/x-python",
   "name": "python",
   "nbconvert_exporter": "python",
   "pygments_lexer": "ipython2",
   "version": "2.7.6"
  }
 },
 "nbformat": 4,
 "nbformat_minor": 5
}
